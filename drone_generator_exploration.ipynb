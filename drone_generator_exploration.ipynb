{
 "metadata": {
  "kernelspec": {
   "display_name": "Python 2",
   "language": "python",
   "name": "python2"
  },
  "language_info": {
   "codemirror_mode": {
    "name": "ipython",
    "version": 2
   },
   "file_extension": ".py",
   "mimetype": "text/x-python",
   "name": "python",
   "nbconvert_exporter": "python",
   "pygments_lexer": "ipython2",
   "version": "2.7.6"
  },
  "name": "",
  "signature": "sha256:090c0b4f65378bffb55f2cb04d60b71c66c16a2e5ac617b9d7f068e8275845b9"
 },
 "nbformat": 3,
 "nbformat_minor": 0,
 "worksheets": [
  {
   "cells": [
    {
     "cell_type": "code",
     "collapsed": false,
     "input": [
      "import numpy as np\n",
      "upper=160\n",
      "lower=5\n",
      "num_intervals=19\n",
      "#TODO choose with probability\n",
      "#TODO bernulli trials\n",
      "\n",
      "intervals = [(a, b) for a in range(lower, int((upper-lower)/2), int(upper/num_intervals)) for b in range(upper, int((upper-lower)/2),int(2*(-upper/num_intervals)))]\n",
      "\n",
      "print(intervals, len(intervals))"
     ],
     "language": "python",
     "metadata": {},
     "outputs": [
      {
       "output_type": "stream",
       "stream": "stdout",
       "text": [
        "[(5, 160), (5, 144), (5, 128), (5, 112), (5, 96), (5, 80), (13, 160), (13, 144), (13, 128), (13, 112), (13, 96), (13, 80), (21, 160), (21, 144), (21, 128), (21, 112), (21, 96), (21, 80), (29, 160), (29, 144), (29, 128), (29, 112), (29, 96), (29, 80), (37, 160), (37, 144), (37, 128), (37, 112), (37, 96), (37, 80), (45, 160), (45, 144), (45, 128), (45, 112), (45, 96), (45, 80), (53, 160), (53, 144), (53, 128), (53, 112), (53, 96), (53, 80), (61, 160), (61, 144), (61, 128), (61, 112), (61, 96), (61, 80), (69, 160), (69, 144), (69, 128), (69, 112), (69, 96), (69, 80)] 54\n"
       ]
      }
     ],
     "prompt_number": null
    },
    {
     "cell_type": "code",
     "collapsed": false,
     "input": [
      "As = range(5, int((upper-lower)/2), int(upper/19) )\n",
      "Bs = range(160, int((upper-lower)/2), int(2*(-upper/19)))\n",
      "for a in As:\n",
      "    print(a)\n",
      "\n",
      "for b in Bs:\n",
      "    print(b)"
     ],
     "language": "python",
     "metadata": {},
     "outputs": [
      {
       "output_type": "stream",
       "stream": "stdout",
       "text": [
        "5\n",
        "13\n",
        "21\n",
        "29\n",
        "37\n",
        "45\n",
        "53\n",
        "61\n",
        "69\n",
        "160\n",
        "144\n",
        "128\n",
        "112\n",
        "96\n",
        "80\n"
       ]
      }
     ],
     "prompt_number": null
    },
    {
     "cell_type": "code",
     "collapsed": false,
     "input": [
      "print(As, len(As), Bs, len(Bs))"
     ],
     "language": "python",
     "metadata": {},
     "outputs": [
      {
       "output_type": "stream",
       "stream": "stdout",
       "text": [
        "range(5, 77, 8) 9 range(160, 77, -16) 6\n"
       ]
      }
     ],
     "prompt_number": 31
    },
    {
     "cell_type": "code",
     "collapsed": false,
     "input": [
      "for a, b, in zip(As,Bs):\n",
      "    print(a,b)"
     ],
     "language": "python",
     "metadata": {},
     "outputs": [
      {
       "output_type": "stream",
       "stream": "stdout",
       "text": [
        "5 160\n",
        "13 144\n",
        "21 128\n",
        "29 112\n",
        "37 96\n",
        "45 80\n"
       ]
      }
     ],
     "prompt_number": 35
    },
    {
     "cell_type": "code",
     "collapsed": false,
     "input": [
      "As = range(5, int((upper-lower)/2), int(((upper-lower)/9)))\n",
      "Bs = range(160, int((upper-lower)/2), int(1.5*(lower-upper)/9))\n",
      "for a in As:\n",
      "    print(a)\n",
      "\n",
      "for b in Bs:\n",
      "    print(b)\n",
      "print(As, len(As), Bs, len(Bs))\n",
      "from itertools import *\n",
      "cnt=0\n",
      "for c in combinations(As,2):\n",
      "    cnt +=1\n",
      "    print(c)\n",
      "print(cnt)\n",
      "cnt=0\n",
      "for c in combinations(Bs,2):\n",
      "    cnt +=1\n",
      "    print(c)\n",
      "print(cnt)"
     ],
     "language": "python",
     "metadata": {},
     "outputs": [],
     "prompt_number": null
    },
    {
     "cell_type": "code",
     "collapsed": false,
     "input": [
      "import cv2 as cv\n",
      "import matplotlib.pyplot as plt\n",
      "img1 = cv.imread('./testwoman.jpg')\n",
      "img2 = cv.imread('./birds/58-1.png')"
     ],
     "language": "python",
     "metadata": {},
     "outputs": [
      {
       "metadata": {},
       "output_type": "pyout",
       "prompt_number": 6,
       "text": [
        "<matplotlib.image.AxesImage at 0x7f0e9d09f9e8>"
       ]
      },
      {
       "metadata": {},
       "output_type": "display_data",
       "png": "[encoded data removed]",
       "text": [
        "<matplotlib.figure.Figure at 0x7f0e9d09f9b0>"
       ]
      }
     ],
     "prompt_number": 6
    },
    {
     "cell_type": "code",
     "collapsed": false,
     "input": [
      "plt.imshow(img1)"
     ],
     "language": "python",
     "metadata": {},
     "outputs": []
    },
    {
     "cell_type": "code",
     "collapsed": false,
     "input": [
      "plt.imshow(img2)"
     ],
     "language": "python",
     "metadata": {},
     "outputs": []
    },
    {
     "cell_type": "code",
     "collapsed": false,
     "input": [
      "dst = cv.addWeighted(img1,0.7, img2, 0.3,0)\n",
      "plt.imshow(dst)"
     ],
     "language": "python",
     "metadata": {},
     "outputs": [
      {
       "ename": "error",
       "evalue": "/io/opencv/modules/core/src/arithm.cpp:659: error: (-209) The operation is neither 'array op array' (where arrays have the same size and the same number of channels), nor 'array op scalar', nor 'scalar op array' in function arithm_op\n",
       "output_type": "pyerr",
       "traceback": [
        "\u001b[0;31m---------------------------------------------------------------------------\u001b[0m\n\u001b[0;31merror\u001b[0m                                     Traceback (most recent call last)",
        "\u001b[0;32m<ipython-input-8-f5ed5b8b70aa>\u001b[0m in \u001b[0;36m<module>\u001b[0;34m()\u001b[0m\n\u001b[0;32m----> 1\u001b[0;31m \u001b[0mdst\u001b[0m \u001b[0;34m=\u001b[0m \u001b[0mcv\u001b[0m\u001b[0;34m.\u001b[0m\u001b[0maddWeighted\u001b[0m\u001b[0;34m(\u001b[0m\u001b[0mimg1\u001b[0m\u001b[0;34m,\u001b[0m\u001b[0;36m0.7\u001b[0m\u001b[0;34m,\u001b[0m \u001b[0mimg2\u001b[0m\u001b[0;34m,\u001b[0m \u001b[0;36m0.3\u001b[0m\u001b[0;34m,\u001b[0m\u001b[0;36m0\u001b[0m\u001b[0;34m)\u001b[0m\u001b[0;34m\u001b[0m\u001b[0m\n\u001b[0m\u001b[1;32m      2\u001b[0m \u001b[0mplt\u001b[0m\u001b[0;34m.\u001b[0m\u001b[0mimshow\u001b[0m\u001b[0;34m(\u001b[0m\u001b[0mdst\u001b[0m\u001b[0;34m)\u001b[0m\u001b[0;34m\u001b[0m\u001b[0m\n",
        "\u001b[0;31merror\u001b[0m: /io/opencv/modules/core/src/arithm.cpp:659: error: (-209) The operation is neither 'array op array' (where arrays have the same size and the same number of channels), nor 'array op scalar', nor 'scalar op array' in function arithm_op\n"
       ]
      }
     ],
     "prompt_number": 8
    },
    {
     "cell_type": "code",
     "collapsed": false,
     "input": [],
     "language": "python",
     "metadata": {},
     "outputs": []
    }
   ],
   "metadata": {}
  }
 ]
}