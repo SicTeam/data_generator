{
 "cells": [
  {
   "cell_type": "code",
   "execution_count": 2,
   "metadata": {},
   "outputs": [
    {
     "name": "stdout",
     "output_type": "stream",
     "text": [
      "[(5, 160), (5, 144), (5, 128), (5, 112), (5, 96), (5, 80), (13, 160), (13, 144), (13, 128), (13, 112), (13, 96), (13, 80), (21, 160), (21, 144), (21, 128), (21, 112), (21, 96), (21, 80), (29, 160), (29, 144), (29, 128), (29, 112), (29, 96), (29, 80), (37, 160), (37, 144), (37, 128), (37, 112), (37, 96), (37, 80), (45, 160), (45, 144), (45, 128), (45, 112), (45, 96), (45, 80), (53, 160), (53, 144), (53, 128), (53, 112), (53, 96), (53, 80), (61, 160), (61, 144), (61, 128), (61, 112), (61, 96), (61, 80), (69, 160), (69, 144), (69, 128), (69, 112), (69, 96), (69, 80)] 54\n"
     ]
    }
   ],
   "source": [
    "import numpy as np\n",
    "upper=160\n",
    "lower=5\n",
    "num_intervals=19\n",
    "#TODO choose with probability\n",
    "#TODO bernulli trials\n",
    "\n",
    "intervals = [(a, b) for a in range(lower, int((upper-lower)/2), int(upper/num_intervals)) for b in range(upper, int((upper-lower)/2),int(2*(-upper/num_intervals)))]\n",
    "\n",
    "print(intervals, len(intervals))"
   ]
  },
  {
   "cell_type": "code",
   "execution_count": 3,
   "metadata": {},
   "outputs": [
    {
     "name": "stdout",
     "output_type": "stream",
     "text": [
      "5\n",
      "13\n",
      "21\n",
      "29\n",
      "37\n",
      "45\n",
      "53\n",
      "61\n",
      "69\n",
      "160\n",
      "144\n",
      "128\n",
      "112\n",
      "96\n",
      "80\n"
     ]
    }
   ],
   "source": [
    "As = range(5, int((upper-lower)/2), int(upper/19) )\n",
    "Bs = range(160, int((upper-lower)/2), int(2*(-upper/19)))\n",
    "for a in As:\n",
    "    print(a)\n",
    "\n",
    "for b in Bs:\n",
    "    print(b)"
   ]
  },
  {
   "cell_type": "code",
   "execution_count": 4,
   "metadata": {},
   "outputs": [
    {
     "name": "stdout",
     "output_type": "stream",
     "text": [
      "range(5, 77, 8) 9 range(160, 77, -16) 6\n"
     ]
    }
   ],
   "source": [
    "print(As, len(As), Bs, len(Bs))"
   ]
  },
  {
   "cell_type": "code",
   "execution_count": 5,
   "metadata": {},
   "outputs": [
    {
     "name": "stdout",
     "output_type": "stream",
     "text": [
      "5 160\n",
      "13 144\n",
      "21 128\n",
      "29 112\n",
      "37 96\n",
      "45 80\n"
     ]
    }
   ],
   "source": [
    "for a, b, in zip(As,Bs):\n",
    "    print(a,b)"
   ]
  },
  {
   "cell_type": "code",
   "execution_count": 6,
   "metadata": {},
   "outputs": [
    {
     "name": "stdout",
     "output_type": "stream",
     "text": [
      "5\n",
      "22\n",
      "39\n",
      "56\n",
      "73\n",
      "160\n",
      "135\n",
      "110\n",
      "85\n",
      "range(5, 77, 17) 5 range(160, 77, -25) 4\n",
      "(5, 22)\n",
      "(5, 39)\n",
      "(5, 56)\n",
      "(5, 73)\n",
      "(22, 39)\n",
      "(22, 56)\n",
      "(22, 73)\n",
      "(39, 56)\n",
      "(39, 73)\n",
      "(56, 73)\n",
      "10\n",
      "(160, 135)\n",
      "(160, 110)\n",
      "(160, 85)\n",
      "(135, 110)\n",
      "(135, 85)\n",
      "(110, 85)\n",
      "6\n"
     ]
    }
   ],
   "source": [
    "As = range(5, int((upper-lower)/2), int(((upper-lower)/9)))\n",
    "Bs = range(160, int((upper-lower)/2), int(1.5*(lower-upper)/9))\n",
    "for a in As:\n",
    "    print(a)\n",
    "\n",
    "for b in Bs:\n",
    "    print(b)\n",
    "print(As, len(As), Bs, len(Bs))\n",
    "from itertools import *\n",
    "cnt=0\n",
    "for c in combinations(As,2):\n",
    "    cnt +=1\n",
    "    print(c)\n",
    "print(cnt)\n",
    "cnt=0\n",
    "for c in combinations(Bs,2):\n",
    "    cnt +=1\n",
    "    print(c)\n",
    "print(cnt)"
   ]
  },
  {
   "cell_type": "code",
   "execution_count": 8,
   "metadata": {},
   "outputs": [],
   "source": [
    "import cv2 as cv\n",
    "import matplotlib.pyplot as plt\n",
    "img1 = cv.imread('./testwoman.jpg')\n",
    "img2 = cv.imread('./birds/58-1.png')"
   ]
  },
  {
   "cell_type": "code",
   "execution_count": 9,
   "metadata": {},
   "outputs": [
    {
     "data": {
      "text/plain": [
       "<matplotlib.image.AxesImage at 0x7fbb602b0ac8>"
      ]
     },
     "execution_count": 9,
     "metadata": {},
     "output_type": "execute_result"
    }
   ],
   "source": [
    "plt.imshow(img1)"
   ]
  },
  {
   "cell_type": "code",
   "execution_count": 10,
   "metadata": {},
   "outputs": [
    {
     "data": {
      "text/plain": [
       "<matplotlib.image.AxesImage at 0x7fbb602c32e8>"
      ]
     },
     "execution_count": 10,
     "metadata": {},
     "output_type": "execute_result"
    }
   ],
   "source": [
    "plt.imshow(img2)"
   ]
  },
  {
   "cell_type": "code",
   "execution_count": 8,
   "metadata": {},
   "outputs": [
    {
     "ename": "error",
     "evalue": "/io/opencv/modules/core/src/arithm.cpp:659: error: (-209) The operation is neither 'array op array' (where arrays have the same size and the same number of channels), nor 'array op scalar', nor 'scalar op array' in function arithm_op\n",
     "traceback": [
      "\u001b[0;31m---------------------------------------------------------------------------\u001b[0m\n\u001b[0;31merror\u001b[0m                                     Traceback (most recent call last)",
      "\u001b[0;32m<ipython-input-8-f5ed5b8b70aa>\u001b[0m in \u001b[0;36m<module>\u001b[0;34m()\u001b[0m\n\u001b[0;32m----> 1\u001b[0;31m \u001b[0mdst\u001b[0m \u001b[0;34m=\u001b[0m \u001b[0mcv\u001b[0m\u001b[0;34m.\u001b[0m\u001b[0maddWeighted\u001b[0m\u001b[0;34m(\u001b[0m\u001b[0mimg1\u001b[0m\u001b[0;34m,\u001b[0m\u001b[0;36m0.7\u001b[0m\u001b[0;34m,\u001b[0m \u001b[0mimg2\u001b[0m\u001b[0;34m,\u001b[0m \u001b[0;36m0.3\u001b[0m\u001b[0;34m,\u001b[0m\u001b[0;36m0\u001b[0m\u001b[0;34m)\u001b[0m\u001b[0;34m\u001b[0m\u001b[0m\n\u001b[0m\u001b[1;32m      2\u001b[0m \u001b[0mplt\u001b[0m\u001b[0;34m.\u001b[0m\u001b[0mimshow\u001b[0m\u001b[0;34m(\u001b[0m\u001b[0mdst\u001b[0m\u001b[0;34m)\u001b[0m\u001b[0;34m\u001b[0m\u001b[0m\n",
      "\u001b[0;31merror\u001b[0m: /io/opencv/modules/core/src/arithm.cpp:659: error: (-209) The operation is neither 'array op array' (where arrays have the same size and the same number of channels), nor 'array op scalar', nor 'scalar op array' in function arithm_op\n"
     ],
     "output_type": "error"
    }
   ],
   "source": [
    "dst = cv.addWeighted(img1,0.7, img2, 0.3,0)\n",
    "plt.imshow(dst)"
   ]
  },
  {
   "cell_type": "code",
   "execution_count": 5,
   "metadata": {},
   "outputs": [
    {
     "ename": "NameError",
     "evalue": "name 'combinations' is not defined",
     "traceback": [
      "\u001b[0;31m---------------------------------------------------------------------------\u001b[0m",
      "\u001b[0;31mNameError\u001b[0m                                 Traceback (most recent call last)",
      "\u001b[0;32m<ipython-input-5-2a39a5dc697b>\u001b[0m in \u001b[0;36m<module>\u001b[0;34m()\u001b[0m\n\u001b[1;32m      3\u001b[0m \u001b[0msz_interval_length\u001b[0m \u001b[0;34m=\u001b[0m \u001b[0msz_upper_bound\u001b[0m \u001b[0;34m-\u001b[0m \u001b[0msz_lower_bound\u001b[0m\u001b[0;34m\u001b[0m\u001b[0m\n\u001b[1;32m      4\u001b[0m \u001b[0msz_mid_point\u001b[0m \u001b[0;34m=\u001b[0m \u001b[0mint\u001b[0m\u001b[0;34m(\u001b[0m\u001b[0;34m(\u001b[0m\u001b[0msz_interval_length\u001b[0m\u001b[0;34m)\u001b[0m \u001b[0;34m/\u001b[0m \u001b[0;36m2\u001b[0m\u001b[0;34m)\u001b[0m\u001b[0;34m\u001b[0m\u001b[0m\n\u001b[0;32m----> 5\u001b[0;31m \u001b[0msize_intervals\u001b[0m \u001b[0;34m=\u001b[0m \u001b[0mlist\u001b[0m\u001b[0;34m(\u001b[0m\u001b[0mcombinations\u001b[0m\u001b[0;34m(\u001b[0m\u001b[0mrange\u001b[0m\u001b[0;34m(\u001b[0m\u001b[0msz_lower_bound\u001b[0m\u001b[0;34m,\u001b[0m \u001b[0msz_mid_point\u001b[0m\u001b[0;34m,\u001b[0m \u001b[0mint\u001b[0m\u001b[0;34m(\u001b[0m\u001b[0;34m(\u001b[0m\u001b[0msz_interval_length\u001b[0m \u001b[0;34m/\u001b[0m \u001b[0;36m10\u001b[0m\u001b[0;34m)\u001b[0m\u001b[0;34m)\u001b[0m\u001b[0;34m)\u001b[0m\u001b[0;34m,\u001b[0m \u001b[0;36m2\u001b[0m\u001b[0;34m)\u001b[0m\u001b[0;34m)\u001b[0m\u001b[0;34m\u001b[0m\u001b[0m\n\u001b[0m\u001b[1;32m      6\u001b[0m \u001b[0mprint\u001b[0m\u001b[0;34m(\u001b[0m\u001b[0msize_intervals\u001b[0m\u001b[0;34m)\u001b[0m\u001b[0;34m\u001b[0m\u001b[0m\n\u001b[1;32m      7\u001b[0m \u001b[0mprint\u001b[0m\u001b[0;34m(\u001b[0m\u001b[0mlen\u001b[0m\u001b[0;34m(\u001b[0m\u001b[0msize_intervals\u001b[0m\u001b[0;34m)\u001b[0m\u001b[0;34m)\u001b[0m\u001b[0;34m\u001b[0m\u001b[0m\n",
      "\u001b[0;31mNameError\u001b[0m: name 'combinations' is not defined"
     ],
     "output_type": "error"
    }
   ],
   "source": [
    "sz_upper_bound = 160\n",
    "sz_lower_bound = 5\n",
    "sz_interval_length = sz_upper_bound - sz_lower_bound\n",
    "sz_mid_point = int((sz_interval_length) / 2)\n",
    "size_intervals = list(combinations(range(sz_lower_bound, sz_mid_point, int((sz_interval_length / 10))), 2))\n",
    "print(size_intervals)\n",
    "print(len(size_intervals))\n",
    "size_intervals += list(combinations(range(sz_mid_point, sz_upper_bound, int((sz_interval_length) / 6)),2))\n",
    "print(size_intervals)\n",
    "print(len(size_intervals))"
   ]
  },
  {
   "cell_type": "code",
   "execution_count": 41,
   "metadata": {},
   "outputs": [
    {
     "name": "stdout",
     "output_type": "stream",
     "text": [
      "[(5, 20), (5, 35), (5, 50), (5, 65), (20, 35), (20, 50), (20, 65), (35, 50), (35, 65), (50, 65)]\n",
      "10\n",
      "[(5, 20), (5, 35), (5, 50), (5, 65), (20, 35), (20, 50), (20, 65), (35, 50), (35, 65), (50, 65), (77, 94), (77, 111), (77, 128), (77, 145), (94, 111), (94, 128), (94, 145), (111, 128), (111, 145), (128, 145)]\n",
      "20\n"
     ]
    }
   ],
   "source": [
    "sz_upper_bound = 160\n",
    "sz_lower_bound = 5\n",
    "sz_interval_length = sz_upper_bound - sz_lower_bound\n",
    "sz_mid_point = int((sz_interval_length) / 2)\n",
    "sz_total_intervals = 19\n",
    "sz_interval_gen_cnt = sz_total_intervals - 1\n",
    "sz_lwr_prop = float(2/3)\n",
    "sz_upr_prop = float(1.0-sz_lwr_prop)\n",
    "\n",
    "size_intervals = list(combinations(range(sz_lower_bound, sz_mid_point, \n",
    "                                         int(abs(sz_lower_bound-sz_mid_point)/(sz_total_intervals/4))\n",
    "                                         ), 2))\n",
    "print(size_intervals)\n",
    "print(len(size_intervals))\n",
    "size_intervals += list(combinations(range(sz_mid_point, sz_upper_bound, int(abs(sz_mid_point-sz_upper_bound)/(sz_total_intervals/4))), 2))\n",
    "print(size_intervals)\n",
    "print(len(size_intervals))\n"
   ]
  },
  {
   "cell_type": "code",
   "execution_count": 18,
   "metadata": {},
   "outputs": [
    {
     "name": "stdout",
     "output_type": "stream",
     "text": [
      "72\n",
      "83\n"
     ]
    }
   ],
   "source": [
    "print(abs(sz_lower_bound - sz_mid_point))\n",
    "print(abs(sz_mid_point - sz_upper_bound))"
   ]
  },
  {
   "cell_type": "code",
   "execution_count": 15,
   "metadata": {},
   "outputs": [
    {
     "name": "stdout",
     "output_type": "stream",
     "text": [
      "[   4.929        10.07142857   15.14285714   20.21428571   25.28571429\n   30.35714286   35.42857143   40.5          45.57142857   50.64285714\n   55.71428571   60.78571429   65.85714286   70.92857143   76.           76.918\n   93.4         109.8         126.2         142.6         159.        ]\n[(4.9290000000000003, 10.071428571428571), (10.071428571428571, 15.142857142857142), (15.142857142857142, 20.214285714285715), (20.214285714285715, 25.285714285714285), (25.285714285714285, 30.357142857142854), (30.357142857142854, 35.428571428571431), (35.428571428571431, 40.5), (40.5, 45.571428571428569), (45.571428571428569, 50.642857142857139), (50.642857142857139, 55.714285714285708), (55.714285714285708, 60.785714285714285), (60.785714285714285, 65.857142857142861), (65.857142857142861, 70.928571428571431), (70.928571428571431, 76.0), (76.0, 76.918000000000006), (76.918000000000006, 93.400000000000006), (93.400000000000006, 109.8), (109.8, 126.19999999999999), (126.19999999999999, 142.59999999999999), (142.59999999999999, 159.0)] 20\n[(55.714285714285708, 60.785714285714285), (60.785714285714285, 65.857142857142861), (65.857142857142861, 70.928571428571431), (70.928571428571431, 76.0), (76.0, 76.918000000000006), (76.918000000000006, 93.400000000000006), (93.400000000000006, 109.8), (109.8, 126.19999999999999), (126.19999999999999, 142.59999999999999), (142.59999999999999, 159.0)] 10\n"
     ]
    }
   ],
   "source": [
    "import pandas as pd\n",
    "bins1=pd.cut(np.arange(sz_lower_bound, sz_mid_point), 14, retbins=True)[1]\n",
    "bins2 = pd.cut(np.arange(sz_mid_point, sz_upper_bound), 5, retbins=True)[1]\n",
    "bins = np.concatenate((bins1,bins2))\n",
    "print(bins)\n",
    "sizes=[(bins[i], bins[i+1]) for i in range(len(bins)-1)]\n",
    "print(sizes, len(sizes))\n",
    "print(sizes[10:], len(sizes[10:]))"
   ]
  },
  {
   "cell_type": "code",
   "execution_count": 3,
   "metadata": {},
   "outputs": [
    {
     "name": "stdout",
     "output_type": "stream",
     "text": [
      "fps: 29.970030, frames: 17760, width: 800, height: 800 \n"
     ]
    },
    {
     "name": "stdout",
     "output_type": "stream",
     "text": [
      "2033\n"
     ]
    }
   ],
   "source": [
    "import cv2\n",
    "from PIL import Image\n",
    "import numpy as np\n",
    "import matplotlib.pyplot as plt\n",
    "\n",
    "bg_video = cv2.VideoCapture('backgrounds/2.mp4')# says we capture an image from a webcam\n",
    "fps = bg_video.get(cv2.CAP_PROP_FPS)\n",
    "frame_count = bg_video.get(cv2.CAP_PROP_FRAME_COUNT)\n",
    "width = bg_video.get(cv2.CAP_PROP_FRAME_WIDTH)\n",
    "height = bg_video.get(cv2.CAP_PROP_FRAME_HEIGHT)\n",
    "print (\"fps: %f, frames: %d, width: %d, height: %d \" % (fps, frame_count, width, height))\n",
    "_,cv2_im = bg_video.read()\n",
    "cv2_im = cv2.cvtColor(cv2_im,cv2.COLOR_BGR2RGB)\n",
    "pil_im = Image.fromarray(cv2_im)\n",
    "pil_im.show()\n",
    "\n",
    "random_frame = np.random.randint(frame_count)\n",
    "bg_video.set(cv2.CAP_PROP_POS_FRAMES, 4483)\n",
    "_, cv2_im2 = bg_video.read()\n",
    "cv2_im2 = cv2.cvtColor(cv2_im2, cv2.COLOR_BGR2RGB)\n",
    "pil_im2 = Image.fromarray(cv2_im2)\n",
    "pil_im2.show()\n",
    "\n",
    "print(random_frame)\n",
    "\n",
    "bg_video.release()\n"
   ]
  },
  {
   "cell_type": "code",
   "execution_count": 4,
   "metadata": {},
   "outputs": [
    {
     "name": "stdout",
     "output_type": "stream",
     "text": [
      "490 0.32653061224489793\n"
     ]
    }
   ],
   "source": [
    "drone_im = cv2.imread('drones/1-5.png',-1)\n",
    "drone_im = cv2.cvtColor(drone_im, cv2.COLOR_BGRA2RGBA)\n",
    "l_img = cv2_im2\n",
    "# s_img = cv2.blur(drone_im, (5,5))\n",
    "target_size = 160\n",
    "source_size_smallest_edge = min(drone_im.shape[:2])\n",
    "scaled_size = target_size / source_size_smallest_edge\n",
    "print(source_size_smallest_edge, scaled_size)\n",
    "if(target_size < source_size_smallest_edge):\n",
    "    s_img = cv2.resize(drone_im, None, fx=scaled_size, fy=scaled_size, interpolation = cv2.INTER_LINEAR)\n",
    "else:\n",
    "    s_img = cv2.resize(drone_im, None, fx=scaled_size, fy=scaled_size, interpolation = cv2.INTER_AREA)\n",
    "    \n",
    "x_offset,y_offset = (400,300)\n",
    "\n",
    "y1, y2 = y_offset, y_offset + s_img.shape[0]\n",
    "x1, x2 = x_offset, x_offset + s_img.shape[1]\n",
    "\n",
    "alpha_s = s_img[:, :, 3] / 255.0\n",
    "alpha_l = 1.0 - alpha_s\n",
    "\n",
    "for c in range(0, 3):\n",
    "    l_img[y1:y2, x1:x2, c] = (alpha_s * s_img[:, :, c] +\n",
    "                              alpha_l * l_img[y1:y2, x1:x2, c])\n",
    "\n",
    "pil_drone = Image.fromarray(l_img)\n",
    "pil_drone.show()\n",
    "# plt.imshow(l_img)\n",
    "\n"
   ]
  },
  {
   "cell_type": "code",
   "execution_count": null,
   "metadata": {},
   "outputs": [],
   "source": []
  }
 ],
 "metadata": {
  "kernelspec": {
   "display_name": "Python 2",
   "language": "python",
   "name": "python2"
  },
  "language_info": {
   "codemirror_mode": {
    "name": "ipython",
    "version": 3
   },
   "file_extension": ".py",
   "mimetype": "text/x-python",
   "name": "python",
   "nbconvert_exporter": "python",
   "pygments_lexer": "ipython3",
   "version": "3.5.2"
  }
 },
 "nbformat": 4,
 "nbformat_minor": 1
}
