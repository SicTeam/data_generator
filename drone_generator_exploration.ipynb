{
 "cells": [
  {
   "cell_type": "code",
   "execution_count": 32,
   "metadata": {},
   "outputs": [
    {
     "name": "stdout",
     "output_type": "stream",
     "text": [
      "[(5, 160), (5, 144), (5, 128), (5, 112), (5, 96), (5, 80), (13, 160), (13, 144), (13, 128), (13, 112), (13, 96), (13, 80), (21, 160), (21, 144), (21, 128), (21, 112), (21, 96), (21, 80), (29, 160), (29, 144), (29, 128), (29, 112), (29, 96), (29, 80), (37, 160), (37, 144), (37, 128), (37, 112), (37, 96), (37, 80), (45, 160), (45, 144), (45, 128), (45, 112), (45, 96), (45, 80), (53, 160), (53, 144), (53, 128), (53, 112), (53, 96), (53, 80), (61, 160), (61, 144), (61, 128), (61, 112), (61, 96), (61, 80), (69, 160), (69, 144), (69, 128), (69, 112), (69, 96), (69, 80)] 54\n"
     ]
    }
   ],
   "source": [
    "import numpy as np\n",
    "upper=160\n",
    "lower=5\n",
    "num_intervals=19\n",
    "#TODO choose with probability\n",
    "#TODO bernulli trials\n",
    "\n",
    "intervals = [(a, b) for a in range(lower, int((upper-lower)/2), int(upper/num_intervals)) for b in range(upper, int((upper-lower)/2),int(2*(-upper/num_intervals)))]\n",
    "\n",
    "print(intervals, len(intervals))"
   ]
  },
  {
   "cell_type": "code",
   "execution_count": null,
   "metadata": {},
   "outputs": [
    {
     "name": "stdout",
     "output_type": "stream",
     "text": [
      "5\n",
      "13\n",
      "21\n",
      "29\n",
      "37\n",
      "45\n",
      "53\n",
      "61\n",
      "69\n",
      "160\n",
      "144\n",
      "128\n",
      "112\n",
      "96\n",
      "80\n"
     ]
    }
   ],
   "source": [
    "As = range(5, int((upper-lower)/2), int(upper/19) )\n",
    "Bs = range(160, int((upper-lower)/2), int(2*(-upper/19)))\n",
    "for a in As:\n",
    "    print(a)\n",
    "\n",
    "for b in Bs:\n",
    "    print(b)"
   ]
  },
  {
   "cell_type": "code",
   "execution_count": 31,
   "metadata": {},
   "outputs": [
    {
     "name": "stdout",
     "output_type": "stream",
     "text": [
      "range(5, 77, 8) 9 range(160, 77, -16) 6\n"
     ]
    }
   ],
   "source": [
    "print(As, len(As), Bs, len(Bs))"
   ]
  },
  {
   "cell_type": "code",
   "execution_count": 35,
   "metadata": {},
   "outputs": [
    {
     "name": "stdout",
     "output_type": "stream",
     "text": [
      "5 160\n",
      "13 144\n",
      "21 128\n",
      "29 112\n",
      "37 96\n",
      "45 80\n"
     ]
    }
   ],
   "source": [
    "for a, b, in zip(As,Bs):\n",
    "    print(a,b)"
   ]
  },
  {
   "cell_type": "code",
   "execution_count": null,
   "metadata": {},
   "outputs": [],
   "source": [
    "As = range(5, int((upper-lower)/2), int(((upper-lower)/9)))\n",
    "Bs = range(160, int((upper-lower)/2), int(1.5*(lower-upper)/9))\n",
    "for a in As:\n",
    "    print(a)\n",
    "\n",
    "for b in Bs:\n",
    "    print(b)\n",
    "print(As, len(As), Bs, len(Bs))\n",
    "from itertools import *\n",
    "cnt=0\n",
    "for c in combinations(As,2):\n",
    "    cnt +=1\n",
    "    print(c)\n",
    "print(cnt)\n",
    "cnt=0\n",
    "for c in combinations(Bs,2):\n",
    "    cnt +=1\n",
    "    print(c)\n",
    "print(cnt)"
   ]
  }
 ],
 "metadata": {
  "kernelspec": {
   "display_name": "Python 2",
   "language": "python",
   "name": "python2"
  },
  "language_info": {
   "codemirror_mode": {
    "name": "ipython",
    "version": 2
   },
   "file_extension": ".py",
   "mimetype": "text/x-python",
   "name": "python",
   "nbconvert_exporter": "python",
   "pygments_lexer": "ipython2",
   "version": "2.7.6"
  },
  "name": "",
  "signature": "sha256:478f1dbd29ab5c86ccca3a004af0c5af54258e9f473eb64ad92766424c2a7e8e"
 },
 "nbformat": 4,
 "nbformat_minor": 0
}
